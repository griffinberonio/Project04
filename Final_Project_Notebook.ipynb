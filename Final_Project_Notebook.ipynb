{
 "cells": [
  {
   "cell_type": "code",
   "execution_count": 5,
   "id": "86a4caff",
   "metadata": {},
   "outputs": [],
   "source": [
    "from Final_Project import *\n"
   ]
  },
  {
   "cell_type": "code",
   "execution_count": 60,
   "id": "63db0571",
   "metadata": {},
   "outputs": [
    {
     "data": {
      "text/html": [
       "<div class=\"wbgapi\"><table>\n",
       "<thead>\n",
       "<tr><th>id            </th><th>value                           </th></tr>\n",
       "</thead>\n",
       "<tbody>\n",
       "<tr><td>SI.DST.02ND.20</td><td>Income share held by second 20% </td></tr>\n",
       "<tr><td>SI.DST.03RD.20</td><td>Income share held by third 20%  </td></tr>\n",
       "<tr><td>SI.DST.04TH.20</td><td>Income share held by fourth 20% </td></tr>\n",
       "<tr><td>SI.DST.05TH.20</td><td>Income share held by highest 20%</td></tr>\n",
       "<tr><td>SI.DST.10TH.10</td><td>Income share held by highest 10%</td></tr>\n",
       "<tr><td>SI.DST.FRST.10</td><td>Income share held by lowest 10% </td></tr>\n",
       "<tr><td>SI.DST.FRST.20</td><td>Income share held by lowest 20% </td></tr>\n",
       "<tr><td>              </td><td>7 elements                      </td></tr>\n",
       "</tbody>\n",
       "</table></div>"
      ],
      "text/plain": [
       "id              value\n",
       "--------------  --------------------------------\n",
       "SI.DST.02ND.20  Income share held by second 20%\n",
       "SI.DST.03RD.20  Income share held by third 20%\n",
       "SI.DST.04TH.20  Income share held by fourth 20%\n",
       "SI.DST.05TH.20  Income share held by highest 20%\n",
       "SI.DST.10TH.10  Income share held by highest 10%\n",
       "SI.DST.FRST.10  Income share held by lowest 10%\n",
       "SI.DST.FRST.20  Income share held by lowest 20%\n",
       "                7 elements"
      ]
     },
     "execution_count": 60,
     "metadata": {},
     "output_type": "execute_result"
    }
   ],
   "source": [
    "wb.source.info()\n",
    "# db35, \n",
    "wb.series.info(db=2)\n",
    "\n",
    "energy_list = pd.DataFrame(wb.series.Series(q='energy')).reset_index()\n",
    "energy_list.columns = ['ID','Desc']\n",
    "# energy_list\n",
    "\n",
    "population = pd.DataFrame(wb.series.Series(q='population')).reset_index()\n",
    "population\n",
    "\n",
    "# wb.series.info(q='population')\n",
    "# 'EN.POP.DNST, population density, SP.POP.TOTL, total population, SP.POP.GROW, population growth, SN.ITK.MSFI.ZS, moderate to severe food insecurity,'\n",
    "# Urban population: SP.URB.TOTL, SP.RUR.TOTL, rural population\n",
    "# wb.series.info(q='education')\n",
    "# SL.UEM.NEET.ZS: share of youth not in education employment or training, NY.ADJ.AEDU.CD education expenditure, SE.XPD.TOTL.GD.ZS (expenditure percent of GDP), we want everything else with SE.XPD...\n",
    "# Educational Attainment\n",
    "\n",
    "emissions = pd.DataFrame(wb.series.Series(q='emissions')).reset_index()\n",
    "\n",
    "wb.series.info(q='interest')\n",
    "\n",
    "wb.series.info(q='Technology')\n",
    "\n",
    "# wb.search(q='infrastructure')\n",
    "wb.series.info(q='transport')\n",
    "wb.series.info(q='internet')\n",
    "wb.series.info(q='income share')\n",
    "\n",
    "\n"
   ]
  }
 ],
 "metadata": {
  "kernelspec": {
   "display_name": "base",
   "language": "python",
   "name": "python3"
  },
  "language_info": {
   "codemirror_mode": {
    "name": "ipython",
    "version": 3
   },
   "file_extension": ".py",
   "mimetype": "text/x-python",
   "name": "python",
   "nbconvert_exporter": "python",
   "pygments_lexer": "ipython3",
   "version": "3.10.9"
  }
 },
 "nbformat": 4,
 "nbformat_minor": 5
}
